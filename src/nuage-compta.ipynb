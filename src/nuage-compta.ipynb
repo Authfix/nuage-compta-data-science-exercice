{
 "metadata": {
  "language_info": {
   "codemirror_mode": {
    "name": "ipython",
    "version": 3
   },
   "file_extension": ".py",
   "mimetype": "text/x-python",
   "name": "python",
   "nbconvert_exporter": "python",
   "pygments_lexer": "ipython3",
   "version": "3.7.9-final"
  },
  "orig_nbformat": 2,
  "kernelspec": {
   "name": "python3",
   "display_name": "Python 3.7.9 64-bit ('nuage-compta': conda)",
   "metadata": {
    "interpreter": {
     "hash": "8d6424be2034125fc3edfaaace23847e02e79d3ab515b7ced9589ce83c2b40b1"
    }
   }
  }
 },
 "nbformat": 4,
 "nbformat_minor": 2,
 "cells": [
  {
   "source": [
    "# Nuage Compta"
   ],
   "cell_type": "markdown",
   "metadata": {}
  },
  {
   "cell_type": "code",
   "execution_count": 1,
   "metadata": {},
   "outputs": [],
   "source": [
    "import modules.images.utils as im"
   ]
  },
  {
   "source": [
    "## Extraction des images\n",
    "\n",
    "La première partie consiste à extraire les lettres de l'image de test"
   ],
   "cell_type": "markdown",
   "metadata": {}
  },
  {
   "cell_type": "code",
   "execution_count": 3,
   "metadata": {
    "tags": []
   },
   "outputs": [],
   "source": [
    "import cv2\n",
    "import numpy as np\n",
    "\n",
    "image = cv2.imread(\"test.jpeg\")\n",
    "\n",
    "gray = cv2.cvtColor(image, cv2.COLOR_BGR2GRAY) \n",
    "cv2.imwrite(\"../data/staging/gray.jpeg\", gray)\n",
    "\n",
    "# Permet de convertir l'image en blanc sur fond noir. Etape nécessaire pour la méthode findContours de OpenCV et par rapport à notre cible\n",
    "_, threshold = cv2.threshold(gray, 0, 255, cv2.THRESH_OTSU + cv2.THRESH_BINARY_INV) \n",
    "cv2.imwrite(\"../data/staging/threshold.jpeg\", threshold)\n",
    "\n",
    "# Copie de l'image sur laquelle on va travailler.\n",
    "target_image = threshold.copy()\n",
    "\n",
    "# Detection des contours. On demande de prendre que les points externes avec RETR_EXTERNAL et d'optimiser le nombre de points avec CHAIN_APPROX_SIMPLE\n",
    "contours = cv2.findContours(threshold, cv2.RETR_EXTERNAL, cv2.CHAIN_APPROX_SIMPLE)\n",
    "contours = contours[0] if len(contours) == 2 else contours[1]\n",
    "\n",
    "roi_index = 0\n",
    "\n",
    "for contour in contours:\n",
    "    x,y,w,h = cv2.boundingRect(contour)\n",
    "\n",
    "    if w < 50 and h < 50:\n",
    "        continue\n",
    "\n",
    "    # Extraction de la lettre dans l'image\n",
    "    roi = target_image[y:y+h, x:x+w]\n",
    "    cv2.imwrite('../data/staging/extract/region_{}.jpeg'.format(roi_index), roi)\n",
    "\n",
    "    # Resize de la lettre pour être en 20x20 en gardant le ratio\n",
    "    r_img = im.resize_image(roi)\n",
    "    cv2.imwrite('../data/staging/resize/region_resize_{}.jpeg'.format(roi_index), r_img)\n",
    "\n",
    "    # Ajout du padding de 4\n",
    "    p_img= cv2.copyMakeBorder(r_img.copy(),4,4,4,4,cv2.BORDER_CONSTANT)\n",
    "    cv2.imwrite('../data/out/region_padded_{}.jpeg'.format(roi_index), p_img)\n",
    "\n",
    "    roi_index += 1"
   ]
  }
 ]
}